{
 "cells": [
  {
   "cell_type": "code",
   "execution_count": 6,
   "metadata": {},
   "outputs": [],
   "source": [
    "import pandas as pd\n",
    "from sentence_transformers import SentenceTransformer\n",
    "model = SentenceTransformer(\"all-distilroberta-v1\")\n",
    "import numpy as np"
   ]
  },
  {
   "cell_type": "code",
   "execution_count": 7,
   "metadata": {},
   "outputs": [],
   "source": [
    "df = pd.read_csv(\"craw_data.json\")"
   ]
  },
  {
   "cell_type": "code",
   "execution_count": 8,
   "metadata": {},
   "outputs": [],
   "source": [
    "dicts = {}"
   ]
  },
  {
   "cell_type": "code",
   "execution_count": 9,
   "metadata": {},
   "outputs": [],
   "source": [
    "def import_data(json_file_path):\n",
    "    import json\n",
    "    import os\n",
    "    datas = {}\n",
    "    if os.path.exists(json_file_path):\n",
    "        with open(json_file_path, 'r') as json_file:\n",
    "            # Step 5: Read the JSON file and convert it to a dictionary\n",
    "            datas = json.load(json_file)\n",
    "        print(datas.keys())\n",
    "    else:\n",
    "        print(\"File does not exist. new dictionary created\")\n",
    "        datas = {}\n",
    "    return datas"
   ]
  },
  {
   "cell_type": "code",
   "execution_count": 10,
   "metadata": {},
   "outputs": [
    {
     "name": "stdout",
     "output_type": "stream",
     "text": [
      "dict_keys(['@yeoracula', '@ai_istired', '@pacarddoy', '@tatanies', '@krvinSFF', '@milkhoneysweett', '@forcevield', '@oresanna', '@jsicasthanie', '@clarazula', '@xorain_fluffy', '@vandh_', '@wittyhog', '@dreamovermorals', '@seanne_7', '@nanakimbapppp', '@sebewntin', '@parkeujust', '@nagetdinogeprek', '@hanksmumma', '@cexsaaa', '@Chapibaruyaa', '@bukangirlboss', '@piledriverwultz', '@morningandcat', '@juanwmv', '@aj05j8', '@jungauli', '@ArchieRawr', '@Willsens2', '@mocsunJA', '@dapsrst', '@tiaphariteler', '@munyamunya88', '@iessthers', '@lowdydoo', '@XXenatha', '@lanamaulanna', '@akuanakhooman', '@martabakejoe', '@anakomaliong', '@enatdeh', '@capekbgt124', '@gensetterz', '@gabbinhere', '@seericheese', '@geez_ann_', '@polayoid', '@DuncanDonut_', '@hewhoflauntsred', '@aikiropass', '@nishimiow', '@ROisinitial', '@mumbocutie', '@peterrtingle', '@Wh1zKt', '@aizzzzh', '@BaronBram', '@sasalelah', '@tunaable', '@electnibro', '@DlMABUK', '@lesyeuxdeasaa', '@GtMiyye', '@kaiinotherern', '@baratgaswiwat', '@glossd707', '@madlyfup77', '@fleursouci', '@alexsentolop', '@fuckallgrains', '@hakasemuda', '@cy_anta', '@tireksunib', '@sweetersner', '@nge_cellin', '@pieceofrel', '@dolphny', '@sushikeiii', '@lovingjenowlee_', '@merkuribingung', '@g_kevin0', '@blackkittenca', '@trsianatha', '@wshzrrn', '@sseaoflove', '@GelWP3', '@xcuzimy', '@oddhunted', '@itsilpii', '@Kucingberwig', '@deepooyyyy', '@skrunclycat', '@binusmenfess', '@atenkatroz', '@iambirubi', '@strawb3ery', '@__poseidont', '@koepiesusu', 'Ikuti', '@napippupeta', '@eprillaurel', '@anthryaya', '@kevin_sohee', '@DFelixL_', '@sshaasie', '@mzmznasipadang', '@bensoberly', '@yoouzn', '@wiwipikawi', '@vichndrlie', '@06_5hp', '@NewJeaniuzz', '@almostforbn', '@kwancilok'])\n"
     ]
    }
   ],
   "source": [
    "dicts = import_data(\"craw_data.json\")"
   ]
  },
  {
   "cell_type": "code",
   "execution_count": 11,
   "metadata": {},
   "outputs": [],
   "source": [
    "# "
   ]
  },
  {
   "cell_type": "code",
   "execution_count": 12,
   "metadata": {},
   "outputs": [
    {
     "data": {
      "text/plain": [
       "115"
      ]
     },
     "execution_count": 12,
     "metadata": {},
     "output_type": "execute_result"
    }
   ],
   "source": [
    "len(dicts.keys())"
   ]
  },
  {
   "cell_type": "code",
   "execution_count": 13,
   "metadata": {},
   "outputs": [
    {
     "name": "stderr",
     "output_type": "stream",
     "text": [
      "Sentence Embedding:   0%|          | 0/115 [00:00<?, ?it/s]"
     ]
    },
    {
     "name": "stderr",
     "output_type": "stream",
     "text": [
      "Sentence Embedding:  85%|████████▌ | 98/115 [36:05<07:57, 28.09s/it]"
     ]
    },
    {
     "name": "stdout",
     "output_type": "stream",
     "text": [
      "user has no post or tweet\n"
     ]
    },
    {
     "name": "stderr",
     "output_type": "stream",
     "text": [
      "Sentence Embedding: 100%|██████████| 115/115 [39:42<00:00, 20.72s/it]\n"
     ]
    },
    {
     "name": "stdout",
     "output_type": "stream",
     "text": [
      "user has no post or tweet\n",
      "user has no post or tweet\n",
      "user has no post or tweet\n"
     ]
    }
   ],
   "source": [
    "# convert\n",
    "from tqdm import tqdm\n",
    "\n",
    "datas = {}\n",
    "for key in tqdm(dicts.keys(),\"Sentence Embedding\"):\n",
    "    # print(\"encoding tweet from user \"+key)\n",
    "    tmp = dicts[key][\"post\"].copy()\n",
    "    tmp.extend(dicts[key][\"replies\"])\n",
    "    if(len(tmp) == 0):\n",
    "        print(\"user has no post or tweet\")\n",
    "        continue\n",
    "    arr = model.encode(tmp[0]).reshape(1,-1)\n",
    "    for t in tmp[1:]:\n",
    "        brr = model.encode(str(t))\n",
    "        arr = np.concatenate((arr,brr.reshape(1,-1)),axis=0)\n",
    "    # print(\"finished encoding tweets from user \"+key)\n",
    "    datas[key] = np.mean(arr,axis=0)\n"
   ]
  },
  {
   "cell_type": "code",
   "execution_count": 14,
   "metadata": {},
   "outputs": [],
   "source": [
    "usernames = list(datas.keys())"
   ]
  },
  {
   "cell_type": "code",
   "execution_count": 15,
   "metadata": {},
   "outputs": [],
   "source": [
    "encoded_datas = datas[usernames[0]].reshape(1,-1)\n",
    "for u in usernames[1:]:\n",
    "    encoded_datas = np.concatenate((encoded_datas,datas[u].reshape(1,-1)),axis=0)"
   ]
  },
  {
   "cell_type": "code",
   "execution_count": 16,
   "metadata": {},
   "outputs": [
    {
     "name": "stdout",
     "output_type": "stream",
     "text": [
      "111 (111, 768)\n"
     ]
    }
   ],
   "source": [
    "print(len(usernames),encoded_datas.shape)"
   ]
  },
  {
   "cell_type": "code",
   "execution_count": 17,
   "metadata": {},
   "outputs": [],
   "source": [
    "from sklearn.decomposition import PCA"
   ]
  },
  {
   "cell_type": "code",
   "execution_count": null,
   "metadata": {},
   "outputs": [],
   "source": []
  },
  {
   "cell_type": "code",
   "execution_count": 18,
   "metadata": {},
   "outputs": [],
   "source": [
    "pca = PCA(n_components=2)\n",
    "# running the transformations\n",
    "result = pca.fit_transform(encoded_datas)"
   ]
  },
  {
   "cell_type": "code",
   "execution_count": 22,
   "metadata": {},
   "outputs": [
    {
     "name": "stderr",
     "output_type": "stream",
     "text": [
      "C:\\Users\\muhammad.hasani\\AppData\\Local\\Temp\\ipykernel_27816\\392147986.py:4: UserWarning: Ignoring `palette` because no `hue` variable has been assigned.\n",
      "  sns.scatterplot(x=[X[0] for X in result],\n"
     ]
    },
    {
     "data": {
      "image/png": "[encoded data removed]",
      "text/plain": [
       "<Figure size 432x288 with 1 Axes>"
      ]
     },
     "metadata": {
      "needs_background": "light"
     },
     "output_type": "display_data"
    }
   ],
   "source": [
    "import seaborn as sns\n",
    "from sklearn.datasets import make_blobs\n",
    "import matplotlib.pyplot as plt\n",
    "sns.scatterplot(x=[X[0] for X in result],\n",
    "                y=[X[1] for X in result],\n",
    "                palette=\"deep\",\n",
    "                legend=None\n",
    "                )\n",
    "plt.xlabel(\"x\")\n",
    "plt.ylabel(\"y\")\n",
    "plt.show()"
   ]
  },
  {
   "cell_type": "code",
   "execution_count": 14,
   "metadata": {},
   "outputs": [],
   "source": [
    "from sklearn.cluster import DBSCAN\n",
    "from sklearn.metrics import silhouette_score\n",
    "from sklearn.metrics import v_measure_score"
   ]
  },
  {
   "cell_type": "code",
   "execution_count": null,
   "metadata": {},
   "outputs": [],
   "source": [
    "def k_means(n_cluster = 2,  max_iter= 300, X):\n",
    "    min_, max_ = uniform()"
   ]
  },
  {
   "cell_type": "code",
   "execution_count": 21,
   "metadata": {},
   "outputs": [
    {
     "name": "stdout",
     "output_type": "stream",
     "text": [
      "Estimated no. of clusters: 1\n",
      "Estimated no. of noise points: 16\n"
     ]
    }
   ],
   "source": [
    "dbscan_cluster1 = DBSCAN(eps=0.2, min_samples=2)\n",
    "dbscan_cluster1.fit(encoded_datas)\n",
    "\n",
    "# Number of Clusters\n",
    "labels=dbscan_cluster1.labels_\n",
    "N_clus=len(set(labels))-(1 if -1 in labels else 0)\n",
    "print('Estimated no. of clusters: %d' % N_clus)\n",
    "\n",
    "# Identify Noise\n",
    "n_noise = list(dbscan_cluster1.labels_).count(-1)\n",
    "print('Estimated no. of noise points: %d' % n_noise)"
   ]
  },
  {
   "cell_type": "code",
   "execution_count": 22,
   "metadata": {},
   "outputs": [
    {
     "data": {
      "text/plain": [
       "array([ 0, -1,  0,  0,  0,  0,  0,  0,  0,  0,  0,  0,  0,  0,  0,  0,  0,\n",
       "        0,  0, -1,  0,  0,  0,  0,  0,  0,  0,  0,  0,  0,  0, -1,  0,  0,\n",
       "        0,  0,  0,  0,  0, -1,  0,  0,  0,  0,  0,  0,  0,  0,  0, -1,  0,\n",
       "        0,  0,  0,  0,  0,  0,  0,  0,  0,  0,  0,  0,  0,  0,  0,  0,  0,\n",
       "        0, -1, -1,  0,  0,  0,  0,  0,  0,  0,  0,  0,  0, -1,  0,  0,  0,\n",
       "        0, -1,  0,  0, -1, -1,  0,  0,  0,  0,  0,  0,  0, -1,  0,  0,  0,\n",
       "       -1, -1,  0,  0, -1,  0,  0,  0, -1], dtype=int64)"
      ]
     },
     "execution_count": 22,
     "metadata": {},
     "output_type": "execute_result"
    }
   ],
   "source": [
    "dbscan_cluster1.labels_"
   ]
  },
  {
   "cell_type": "code",
   "execution_count": 30,
   "metadata": {},
   "outputs": [],
   "source": [
    "from sklearn.metrics.pairwise import cosine_similarity"
   ]
  },
  {
   "cell_type": "code",
   "execution_count": 31,
   "metadata": {},
   "outputs": [
    {
     "data": {
      "text/plain": [
       "array([ 1.08547974e-02, -1.79023277e-02, -1.39528941e-02,  4.54235211e-04,\n",
       "       -1.74026622e-03, -2.94369143e-02, -9.30738915e-03,  1.55093111e-02,\n",
       "        1.52883362e-02, -2.98085716e-02,  5.99070545e-03, -2.32862234e-02,\n",
       "       -1.51501112e-02, -1.10638123e-02, -1.21970996e-02, -8.98412894e-04,\n",
       "        2.25190241e-02,  8.82041920e-03, -1.73196085e-02,  1.53584899e-02,\n",
       "        2.25200858e-02,  2.88401004e-02, -7.84502737e-03,  2.52086692e-03,\n",
       "        7.39078224e-03,  5.29714767e-03, -3.50200781e-03, -1.69785079e-02,\n",
       "       -3.09391916e-02,  3.67593695e-03, -1.29934568e-02,  1.39087420e-02,\n",
       "       -2.80239433e-03,  8.61898158e-03,  2.44823354e-03,  8.25134851e-03,\n",
       "        1.42378407e-02, -1.75244436e-02,  2.15006825e-02,  1.01202754e-02,\n",
       "        4.30684956e-03, -1.01990746e-02,  1.02165416e-02, -2.74660438e-03,\n",
       "        7.03262805e-04, -3.65155656e-03, -1.00966496e-03, -1.10865608e-02,\n",
       "       -6.10031560e-03,  5.46111539e-03, -1.15047600e-02, -6.48648152e-03,\n",
       "       -3.67720099e-03, -1.76849344e-03,  1.86807464e-03, -5.41373156e-03,\n",
       "        4.20147181e-03,  1.91306435e-02,  1.54266227e-02, -5.14709903e-03,\n",
       "        2.51591373e-02,  2.12536827e-02, -1.14168907e-02,  1.64492037e-02,\n",
       "        1.86133198e-02, -3.68754123e-03, -7.37885293e-03,  1.55769484e-02,\n",
       "       -8.12632218e-03, -1.66021548e-02,  1.69477034e-02,  1.32221635e-03,\n",
       "       -4.86793462e-03, -3.12542394e-02, -2.14091819e-02,  4.58679482e-04,\n",
       "       -4.81397007e-03, -2.44724359e-02, -5.56148961e-02,  1.84602533e-02,\n",
       "        1.01977782e-02,  1.98948178e-02,  3.42293922e-03, -5.85637614e-03,\n",
       "       -7.09790690e-03, -8.59470665e-03,  8.98037571e-03,  1.88351830e-03,\n",
       "        3.10302014e-04, -1.53074879e-02,  6.21263389e-05, -2.02209167e-02,\n",
       "        1.35860415e-02,  2.01835409e-02, -1.54446140e-02, -6.42954139e-03,\n",
       "       -1.23478239e-02,  1.18701858e-02, -6.48030918e-03, -7.01233512e-03,\n",
       "        2.27138982e-03,  1.07193394e-02, -2.09066588e-02, -1.03388475e-02,\n",
       "       -2.96335696e-04,  1.11290934e-02, -2.54329313e-02, -2.67661046e-02,\n",
       "       -1.83933228e-02,  8.21701437e-03,  1.16405031e-02,  2.64963750e-02,\n",
       "        1.74042361e-03,  1.61958691e-02, -1.50857000e-02, -1.69235673e-02,\n",
       "        2.28478527e-03, -1.26419375e-02, -9.22625419e-03,  3.22718173e-02,\n",
       "       -2.62277061e-03,  2.54738075e-03,  1.87154450e-02, -1.18529447e-03,\n",
       "        5.02322521e-03,  7.83733744e-03,  1.71299092e-02,  1.82378292e-02,\n",
       "       -9.19817761e-03, -2.72693229e-03, -1.03414916e-02, -3.77251916e-02,\n",
       "        4.54106182e-03, -2.90971547e-02,  2.61277449e-03, -4.51931672e-04,\n",
       "       -5.41914254e-03,  1.93792507e-02,  8.84221215e-03, -2.34311738e-04,\n",
       "        1.62406638e-02, -1.89763342e-03,  1.30622014e-02, -6.36894081e-04,\n",
       "        1.56104832e-03,  2.17019822e-02, -1.86498985e-02, -1.72044300e-02,\n",
       "       -1.05720721e-02,  1.52705545e-02,  6.41167443e-03, -2.34140083e-02,\n",
       "       -7.83655141e-03,  1.13034910e-02, -7.37624383e-03,  2.11402634e-03,\n",
       "       -4.51950217e-03,  1.81969423e-02,  2.64175218e-02,  1.37932552e-02,\n",
       "       -2.78536719e-03, -2.68659610e-02,  6.99943770e-03, -9.63620655e-03,\n",
       "        5.70837082e-03, -1.18636154e-02,  4.65771975e-03,  1.77926589e-02,\n",
       "        1.01135438e-03, -2.20940728e-02,  1.05925426e-02, -1.18574649e-02,\n",
       "       -8.65762867e-03, -1.39059070e-02,  1.38930057e-03,  9.02941637e-03,\n",
       "       -1.67105831e-02,  1.99253466e-02,  1.25005357e-02,  6.52576145e-03,\n",
       "       -1.95057727e-02, -1.50010514e-03, -7.19788251e-03, -3.71139939e-03,\n",
       "        1.51549065e-02,  5.02619427e-03, -1.74385794e-02, -1.09531032e-02,\n",
       "       -4.41260729e-03, -3.61532904e-02, -2.76861470e-02,  2.49056472e-03,\n",
       "       -5.18722367e-03,  9.95156076e-03,  4.06864798e-03,  4.62386105e-03,\n",
       "       -5.76352188e-03, -8.18845816e-03, -1.44689274e-03, -1.11726448e-02,\n",
       "        1.04320589e-02, -9.09936056e-03,  1.86528973e-02, -1.08248787e-02,\n",
       "        4.86147963e-03, -1.37355588e-02, -2.52840798e-02, -1.10066840e-02,\n",
       "        1.22956363e-02, -1.28096268e-02, -1.11874854e-02,  1.77530281e-03,\n",
       "        9.34193190e-03,  1.01597784e-02,  1.46209877e-02,  1.30697126e-02,\n",
       "        4.43906104e-03,  2.30331756e-02, -1.04935663e-02, -2.00198758e-02,\n",
       "       -6.06993493e-03,  4.93262568e-03,  4.66711586e-03, -9.99193289e-04,\n",
       "       -1.35256415e-02,  2.25327001e-03,  1.33423079e-02, -5.28583303e-03,\n",
       "       -2.60150563e-02, -2.16045300e-03, -4.69003338e-03,  4.94117150e-03,\n",
       "       -1.28865931e-02, -9.46753309e-04,  9.95463226e-03, -1.33881737e-02,\n",
       "        1.73103549e-02, -1.50372386e-02,  1.97652597e-02, -1.28853507e-03,\n",
       "       -1.93639547e-02,  1.49037584e-03,  7.52528338e-03, -1.86619721e-02,\n",
       "        1.25439595e-02, -2.73303688e-02, -1.27936853e-02,  5.47688305e-02,\n",
       "       -9.53885913e-03,  9.57710552e-04, -3.62318417e-04, -1.31915826e-02,\n",
       "       -2.52675661e-03, -1.38486912e-02, -1.39708957e-02,  2.03148404e-04,\n",
       "       -7.42815551e-04, -3.46822035e-03,  1.52548170e-02,  1.01708258e-02,\n",
       "        4.22446709e-03,  2.41716150e-02,  1.92551948e-02,  3.06553277e-03,\n",
       "        2.14855764e-02,  2.08186787e-02,  4.39641066e-03,  5.35198767e-03,\n",
       "       -1.55572151e-03, -3.64075997e-03,  8.64303764e-03,  2.42919778e-03,\n",
       "        1.51222628e-02, -1.76868495e-02,  1.24231558e-02,  4.12111171e-03,\n",
       "        1.99451465e-02, -6.51919190e-03,  2.18042526e-02,  8.38966016e-03,\n",
       "        1.54232634e-02,  3.35417641e-03,  1.88620482e-02, -5.09057543e-04,\n",
       "        6.87024416e-03,  1.04505674e-03, -1.89671554e-02,  9.40335076e-03,\n",
       "        5.17767528e-03, -1.75872305e-03,  9.06293746e-03,  2.61392891e-02,\n",
       "        4.53469902e-03,  5.17044496e-03, -3.47527070e-03,  1.00332145e-02,\n",
       "        7.92683684e-04, -1.98191889e-02, -1.55980596e-02, -1.58792995e-02,\n",
       "        1.82041246e-02, -2.64212433e-02,  1.82609782e-02, -2.62352661e-03,\n",
       "       -7.18223071e-03, -1.70872197e-03, -4.13672253e-03,  1.15037132e-02,\n",
       "       -1.33152388e-03,  3.10017355e-02, -1.43343117e-02,  1.84577964e-02,\n",
       "        2.37218663e-02, -2.15250580e-03, -2.63685379e-02, -1.01617062e-02,\n",
       "        1.20583717e-02,  5.08939102e-03,  8.37698858e-03,  2.87636630e-02,\n",
       "       -1.95715986e-02, -3.57042812e-03,  1.74576100e-02, -2.50287428e-02,\n",
       "       -1.84170753e-02, -4.78332769e-03, -1.32953487e-02, -1.06260749e-02,\n",
       "        1.90451629e-02,  2.00764034e-02, -5.79703338e-02, -2.11802796e-02,\n",
       "        1.40286488e-02, -8.25376343e-03, -1.64002702e-02,  2.22927295e-02,\n",
       "       -6.68384717e-04,  1.12647964e-02,  1.38868392e-03,  1.64566468e-02,\n",
       "       -2.27449345e-03,  2.26482603e-04,  1.46559905e-02,  1.22395838e-02,\n",
       "        7.46774115e-03, -1.69306174e-02,  5.36325015e-03, -1.15795890e-02,\n",
       "        6.10237126e-04,  6.53705839e-03,  1.60270114e-03, -2.85048597e-03,\n",
       "        1.35668376e-02, -2.65209768e-02, -1.30125424e-02,  2.07454003e-02,\n",
       "       -1.32441428e-02,  8.96152854e-03, -9.94066522e-03, -2.98845163e-03,\n",
       "       -3.47686117e-04,  2.37084720e-02, -3.96683841e-04, -6.71003247e-03,\n",
       "        1.04541518e-02, -1.33943455e-02, -2.73275804e-02,  6.81472896e-03,\n",
       "        4.88532998e-04,  3.57966032e-03,  1.21203316e-02,  1.24141537e-02,\n",
       "       -1.05420817e-02,  2.96714669e-03,  4.88026254e-03,  2.35573994e-03,\n",
       "        2.01236783e-03, -5.50244562e-03, -8.70316662e-03, -1.54126398e-02,\n",
       "        6.30493928e-03, -8.41581821e-03, -8.66814796e-03,  1.69588905e-03,\n",
       "       -1.02162715e-02, -9.70189460e-03,  5.40188700e-03, -2.72566155e-02,\n",
       "       -2.47084332e-04,  5.18911751e-03, -3.41000594e-03,  1.75118148e-02,\n",
       "       -4.40386590e-03, -9.20921098e-04,  1.63360480e-02,  1.45813776e-02,\n",
       "        1.94068048e-02,  2.59751938e-02, -7.17389304e-03, -2.18354166e-02,\n",
       "        1.26352133e-02,  5.94680756e-03, -4.81953006e-03, -1.08051673e-02,\n",
       "       -8.94127227e-03,  2.48200372e-02, -1.32998461e-02, -2.91784294e-02,\n",
       "       -8.44220072e-03, -1.67610403e-02,  6.53365720e-03,  2.90270895e-02,\n",
       "        1.17397271e-02, -2.65906341e-02,  1.64419562e-02,  1.70942359e-02,\n",
       "       -1.19161755e-02, -3.25834677e-02, -1.94099528e-04,  1.46393022e-02,\n",
       "        1.84229147e-02, -1.93708949e-02, -9.45357978e-03, -2.75954697e-02,\n",
       "        4.57284637e-02, -1.63106830e-03, -1.43544236e-03, -1.31781390e-02,\n",
       "       -6.41866680e-03, -5.46856271e-03,  1.51394280e-02,  1.64024308e-02,\n",
       "        1.41028883e-02, -1.13431886e-02,  2.37618247e-03, -1.84923615e-02,\n",
       "        6.79913023e-03, -2.86264298e-03,  1.18598028e-03,  1.97636429e-02,\n",
       "        7.87546206e-03,  6.58508507e-04,  4.04517120e-03, -2.44491547e-02,\n",
       "       -1.83295757e-02,  1.30185392e-02,  6.92470092e-03, -1.08567551e-02,\n",
       "        1.42922774e-02,  1.85804274e-02, -6.24976680e-03, -8.73398315e-03,\n",
       "       -4.97168163e-04, -6.88946322e-02,  2.95850192e-03,  9.07712802e-03,\n",
       "       -8.54293536e-03, -1.54958840e-03, -2.77793338e-03, -5.43383230e-03,\n",
       "        1.56048834e-02, -3.09333351e-04, -9.73749440e-03,  5.56925079e-04,\n",
       "        1.57579090e-02,  1.21229114e-02,  1.33302866e-03, -7.98399746e-03,\n",
       "        2.34294254e-02,  9.64064989e-03,  8.57112609e-05, -5.05460426e-03,\n",
       "       -2.56288156e-04,  3.10383877e-03,  3.33119882e-03, -2.21917331e-02,\n",
       "       -3.43624805e-03, -2.41784658e-02,  1.26042850e-02, -2.38810826e-04,\n",
       "        1.37012091e-03,  6.98075863e-03,  8.28236993e-03,  6.02347916e-03,\n",
       "        1.30059356e-02,  3.22908466e-03,  1.67648564e-03,  1.46580096e-02,\n",
       "       -2.34359130e-02, -1.40487577e-03, -1.82640571e-02, -8.41554720e-03,\n",
       "       -1.89553965e-02,  9.09218006e-03,  2.53219079e-33, -5.19575365e-03,\n",
       "       -3.39507759e-02, -8.75738077e-03,  2.35768333e-02,  4.43947688e-03,\n",
       "        1.79551076e-02,  1.08356541e-03,  2.45485660e-02,  1.11350659e-02,\n",
       "        3.59243806e-03, -2.41204556e-02,  1.13344574e-02,  6.55330019e-04,\n",
       "        3.99470842e-03,  4.89005959e-03,  1.51299010e-03, -1.39917498e-02,\n",
       "       -1.45525942e-02, -1.18661262e-02, -9.34565440e-03, -1.53430575e-03,\n",
       "        9.06817801e-03, -2.33562873e-03, -6.73373695e-03, -5.93718328e-03,\n",
       "       -1.06972540e-02, -1.42195066e-02, -8.04096367e-03, -4.31501213e-03,\n",
       "       -1.11048557e-02, -1.07852612e-02,  8.96128174e-03,  1.43414987e-02,\n",
       "       -2.16575265e-02, -2.61542499e-02,  1.94840916e-02,  1.06055883e-03,\n",
       "       -1.88298505e-02, -9.56859905e-03,  9.01033916e-03,  9.47639160e-03,\n",
       "       -2.96307970e-02,  1.67598892e-02, -1.09278355e-02,  1.99064258e-02,\n",
       "        4.85619484e-03,  5.23932464e-03,  7.28753337e-04,  3.97491385e-04,\n",
       "       -5.76094862e-05,  1.05587775e-02,  1.04524959e-02,  1.19353170e-02,\n",
       "       -2.92680375e-02, -2.52372772e-02,  2.80839596e-02, -3.54183763e-02,\n",
       "       -1.60875451e-02,  7.58389896e-03,  1.18246702e-02, -2.29282025e-03,\n",
       "        1.58163160e-02,  1.58351846e-02,  6.69399928e-03,  1.82271302e-02,\n",
       "       -5.87502436e-04, -5.85992960e-03,  1.65960621e-02,  5.53040393e-03,\n",
       "       -5.93815977e-03,  9.46845300e-03, -2.84887142e-02,  1.67178409e-03,\n",
       "        1.13689946e-02,  2.53076083e-03, -1.78301074e-02,  1.51018647e-03,\n",
       "        1.01877041e-02, -2.73873680e-03, -8.20397306e-03, -4.07129992e-03,\n",
       "       -1.40979420e-04, -4.42372542e-03, -6.02863170e-03,  8.82863812e-03,\n",
       "        3.34743038e-02,  2.42288155e-03,  1.96888577e-04,  5.55525115e-03,\n",
       "       -1.13827903e-02,  2.48240610e-03, -5.62757347e-03, -9.57646593e-03,\n",
       "        1.77701481e-03, -9.60826129e-03,  1.41759473e-03, -1.55890714e-02,\n",
       "       -2.40348577e-02, -2.68580439e-03,  1.81986310e-03, -2.04499941e-02,\n",
       "       -2.18594987e-02, -1.38862059e-03,  1.38073731e-02, -2.17839107e-02,\n",
       "       -1.20509611e-02, -5.61147416e-03,  4.07579960e-03,  3.66039530e-05,\n",
       "        6.19470933e-03,  3.28675169e-03,  2.47020517e-02, -8.75094067e-03,\n",
       "        7.67343212e-03,  8.73104762e-03,  4.28917352e-03, -2.57601440e-02,\n",
       "        2.61947815e-03,  1.08211087e-02,  4.48864605e-03,  8.09498597e-03,\n",
       "       -8.05875938e-03,  2.22056005e-02,  1.89909842e-02, -2.96137971e-03,\n",
       "        1.44242272e-02,  2.09045280e-02,  2.69098431e-02,  1.45858545e-02,\n",
       "       -9.76921245e-03,  1.23569500e-02, -6.03096932e-03,  1.48470383e-02,\n",
       "        9.53518692e-03, -5.89416130e-03,  1.73891033e-03, -1.43860774e-02,\n",
       "        8.62988457e-03,  1.73006989e-02, -5.13107190e-03, -2.32623820e-03,\n",
       "        2.45389119e-02, -6.90860208e-04, -1.30752865e-02,  1.39844781e-02,\n",
       "       -5.68366935e-03, -9.73471382e-04, -1.77805461e-02,  1.08237602e-02,\n",
       "       -1.60668306e-02,  1.09968642e-02,  7.04231346e-03, -1.34953763e-02,\n",
       "        1.18899578e-02, -1.81471370e-02, -4.08682087e-03, -8.29571672e-03,\n",
       "        2.38170959e-02, -6.85561681e-03,  1.56104863e-02,  2.25845631e-03,\n",
       "       -8.39102268e-03, -9.55038238e-03,  3.08987387e-02, -1.35968241e-03,\n",
       "       -6.74366625e-03, -1.54039664e-02, -2.91421879e-02,  4.83313529e-03,\n",
       "       -2.14401092e-02, -3.35593708e-02,  3.90330236e-03, -2.00426579e-02,\n",
       "        1.10144485e-02,  1.64897647e-02, -5.24821645e-03,  2.41683819e-03,\n",
       "       -1.42240655e-02,  1.47959031e-02, -1.70019083e-02, -1.61939878e-02,\n",
       "        9.95057356e-03,  1.01841623e-02, -2.03479771e-02, -1.34590510e-02,\n",
       "        2.05383101e-03, -6.10489352e-03, -1.41488323e-02,  1.51999881e-02,\n",
       "        5.38642844e-03, -1.25535997e-02, -7.40723824e-03,  2.84813326e-02,\n",
       "       -1.62320696e-02, -2.24443879e-02, -2.04845574e-02,  2.39394652e-03,\n",
       "       -1.90783106e-02, -2.29014382e-02, -1.10145910e-02,  7.56182428e-03,\n",
       "       -4.76438273e-03, -3.51065566e-04,  4.37795231e-03, -1.22808507e-02,\n",
       "       -8.17288179e-03, -1.06555484e-02, -2.44764816e-02, -6.14601467e-03,\n",
       "       -1.26936221e-02,  1.85968298e-02,  4.97739390e-03,  5.05200354e-03,\n",
       "        1.25676561e-02,  6.38410158e-04, -1.13171022e-02,  6.13527466e-03,\n",
       "        5.02338586e-03,  2.85785599e-03, -2.43044738e-03,  1.90719571e-02,\n",
       "        2.65977904e-02, -5.40857390e-03,  1.70904193e-02, -3.90250748e-03,\n",
       "        1.67720933e-02,  1.58381294e-02,  7.09907291e-03, -1.15050422e-02,\n",
       "       -2.15951949e-02, -1.94839071e-02, -3.10354983e-03,  7.28536630e-03,\n",
       "        8.17359239e-03, -1.69369318e-02,  9.49963741e-03,  9.71973874e-03,\n",
       "       -7.53421383e-03,  2.24060770e-02,  6.14657998e-03,  6.71763672e-03,\n",
       "       -1.90659054e-02,  1.83078665e-02,  2.28797384e-02, -6.65140105e-03,\n",
       "       -1.88334868e-03,  9.17501003e-03, -9.52565670e-03, -4.53936774e-03,\n",
       "        2.74380320e-03, -3.40296444e-03,  5.20172436e-03,  6.92039309e-03,\n",
       "        8.87746364e-03, -1.24621736e-02,  8.73095263e-03,  9.69175249e-03,\n",
       "        5.58639131e-03,  2.52295658e-02, -1.97706781e-02,  1.14458548e-02,\n",
       "        9.17536486e-03, -7.24373618e-03,  1.88910328e-02,  6.40493631e-03,\n",
       "        8.66857450e-03,  1.72299787e-03, -7.31404172e-03,  1.67683698e-02,\n",
       "        4.57190387e-02, -2.00316459e-02, -1.39444498e-02,  4.18568077e-03],\n",
       "      dtype=float32)"
      ]
     },
     "execution_count": 31,
     "metadata": {},
     "output_type": "execute_result"
    }
   ],
   "source": [
    "encoded_datas[0]"
   ]
  },
  {
   "cell_type": "code",
   "execution_count": 37,
   "metadata": {},
   "outputs": [
    {
     "data": {
      "text/plain": [
       "array([[0.9579847]], dtype=float32)"
      ]
     },
     "execution_count": 37,
     "metadata": {},
     "output_type": "execute_result"
    }
   ],
   "source": [
    "cosine_similarity(encoded_datas[5].reshape(1,-1),encoded_datas[6].reshape(1,-1))"
   ]
  },
  {
   "cell_type": "code",
   "execution_count": 33,
   "metadata": {},
   "outputs": [
    {
     "data": {
      "text/plain": [
       "0.43703306"
      ]
     },
     "execution_count": 33,
     "metadata": {},
     "output_type": "execute_result"
    }
   ],
   "source": [
    "silhouette_score(encoded_datas,dbscan_cluster1.labels_)"
   ]
  },
  {
   "cell_type": "code",
   "execution_count": 28,
   "metadata": {},
   "outputs": [],
   "source": [
    "from sklearn.cluster import KMeans\n",
    "from sklearn.metrics import silhouette_score\n",
    "kmeans = KMeans(n_clusters=2, random_state=42)\n",
    "\n",
    "k = 2\n",
    "score = silhouette_score(encoded_datas, kmeans.fit_predict(encoded_datas))"
   ]
  },
  {
   "cell_type": "code",
   "execution_count": 29,
   "metadata": {},
   "outputs": [],
   "source": [
    "tmp = score\n",
    "while(True):\n",
    "    k+=1\n",
    "    kmeans = KMeans(n_clusters=k, random_state=42)\n",
    "    score = silhouette_score(encoded_datas, kmeans.fit_predict(encoded_datas))\n",
    "    if(score <= tmp):\n",
    "        break\n",
    "    \n",
    "    tmp = score"
   ]
  },
  {
   "cell_type": "code",
   "execution_count": 30,
   "metadata": {},
   "outputs": [
    {
     "name": "stdout",
     "output_type": "stream",
     "text": [
      "3\n"
     ]
    }
   ],
   "source": [
    "print(k)"
   ]
  },
  {
   "cell_type": "code",
   "execution_count": 32,
   "metadata": {},
   "outputs": [
    {
     "data": {
      "text/plain": [
       "array([2, 2, 0, 0, 2, 0, 0, 2, 0, 0, 0, 0, 0, 2, 0, 0, 0, 0, 0, 2, 2, 0,\n",
       "       0, 0, 2, 2, 2, 0, 0, 2, 0, 0, 0, 2, 2, 0, 0, 0, 0, 2, 0, 0, 0, 0,\n",
       "       2, 2, 0, 0, 2, 2, 0, 2, 2, 2, 0, 2, 2, 0, 0, 2, 0, 2, 0, 0, 0, 0,\n",
       "       2, 0, 0, 2, 2, 2, 2, 0, 0, 0, 0, 0, 0, 0, 0, 1, 0, 0, 0, 2, 2, 0,\n",
       "       2, 2, 0, 0, 2, 0, 0, 0, 0, 2, 2, 2, 0, 0, 2, 2, 0, 0, 2, 2, 0, 0,\n",
       "       2])"
      ]
     },
     "execution_count": 32,
     "metadata": {},
     "output_type": "execute_result"
    }
   ],
   "source": [
    "kmeans.fit_predict(encoded_datas)"
   ]
  },
  {
   "cell_type": "code",
   "execution_count": 31,
   "metadata": {},
   "outputs": [
    {
     "data": {
      "text/plain": [
       "0.2873589"
      ]
     },
     "execution_count": 31,
     "metadata": {},
     "output_type": "execute_result"
    }
   ],
   "source": [
    "tmp"
   ]
  },
  {
   "cell_type": "code",
   "execution_count": null,
   "metadata": {},
   "outputs": [],
   "source": []
  }
 ],
 "metadata": {
  "kernelspec": {
   "display_name": "aiproject",
   "language": "python",
   "name": "python3"
  },
  "language_info": {
   "codemirror_mode": {
    "name": "ipython",
    "version": 3
   },
   "file_extension": ".py",
   "mimetype": "text/x-python",
   "name": "python",
   "nbconvert_exporter": "python",
   "pygments_lexer": "ipython3",
   "version": "3.8.13"
  }
 },
 "nbformat": 4,
 "nbformat_minor": 2
}
